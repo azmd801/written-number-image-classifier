{
  "nbformat": 4,
  "nbformat_minor": 0,
  "metadata": {
    "colab": {
      "provenance": [],
      "gpuType": "T4"
    },
    "kernelspec": {
      "name": "python3",
      "display_name": "Python 3"
    },
    "language_info": {
      "name": "python"
    },
    "accelerator": "GPU"
  },
  "cells": [
    {
      "cell_type": "code",
      "source": [
        "!fc-list"
      ],
      "metadata": {
        "colab": {
          "base_uri": "https://localhost:8080/"
        },
        "collapsed": true,
        "id": "Ktzhk4uVm8bk",
        "outputId": "919ff44f-544c-4bab-d85c-78f3e74269a1"
      },
      "execution_count": null,
      "outputs": [
        {
          "output_type": "stream",
          "name": "stdout",
          "text": [
            "/usr/share/fonts/truetype/liberation/LiberationSansNarrow-Italic.ttf: Liberation Sans Narrow:style=Italic\n",
            "/usr/share/fonts/truetype/liberation/LiberationSans-Regular.ttf: Liberation Sans:style=Regular\n",
            "/usr/share/fonts/truetype/liberation/LiberationMono-BoldItalic.ttf: Liberation Mono:style=Bold Italic\n",
            "/usr/share/fonts/truetype/liberation/LiberationSerif-Italic.ttf: Liberation Serif:style=Italic\n",
            "/usr/share/fonts/truetype/liberation/LiberationMono-Bold.ttf: Liberation Mono:style=Bold\n",
            "/usr/share/fonts/truetype/liberation/LiberationSansNarrow-Regular.ttf: Liberation Sans Narrow:style=Regular\n",
            "/usr/share/fonts/truetype/liberation/LiberationSerif-Bold.ttf: Liberation Serif:style=Bold\n",
            "/usr/share/fonts/truetype/liberation/LiberationMono-Regular.ttf: Liberation Mono:style=Regular\n",
            "/usr/share/fonts/truetype/liberation/LiberationSans-Italic.ttf: Liberation Sans:style=Italic\n",
            "/usr/share/fonts/truetype/liberation/LiberationSerif-BoldItalic.ttf: Liberation Serif:style=Bold Italic\n",
            "/usr/share/fonts/truetype/liberation/LiberationSansNarrow-BoldItalic.ttf: Liberation Sans Narrow:style=Bold Italic\n",
            "/usr/share/fonts/truetype/liberation/LiberationMono-Italic.ttf: Liberation Mono:style=Italic\n",
            "/usr/share/fonts/truetype/liberation/LiberationSans-BoldItalic.ttf: Liberation Sans:style=Bold Italic\n",
            "/usr/share/fonts/truetype/liberation/LiberationSerif-Regular.ttf: Liberation Serif:style=Regular\n",
            "/usr/share/fonts/truetype/liberation/LiberationSansNarrow-Bold.ttf: Liberation Sans Narrow:style=Bold\n",
            "/usr/share/fonts/truetype/liberation/LiberationSans-Bold.ttf: Liberation Sans:style=Bold\n",
            "/usr/share/fonts/truetype/humor-sans/Humor-Sans.ttf: Humor Sans:style=Regular\n"
          ]
        }
      ]
    },
    {
      "cell_type": "code",
      "source": [
        "from PIL import Image, ImageDraw, ImageFont\n",
        "import random\n",
        "import os\n",
        "\n",
        "def generate_text_image(text, font_path, font_size, text_color, background_color, image_size):\n",
        "    \"\"\"\n",
        "    Generates an image with the specified text.\n",
        "\n",
        "    Args:\n",
        "        text: The text to write on the image.\n",
        "        font_path: Path to the font file.\n",
        "        font_size: Size of the text in pixels.\n",
        "        text_color: Color of the text (e.g., (255, 0, 0) for red).\n",
        "        background_color: Background color of the image (e.g., (255, 255, 255) for white).\n",
        "        image_size: Tuple representing the width and height of the image (e.g., (800, 600)).\n",
        "\n",
        "    Returns:\n",
        "        A PIL Image object containing the generated image, or None if font loading fails.\n",
        "    \"\"\"\n",
        "\n",
        "    # Create a new image with the specified size and background color\n",
        "    image = Image.new(\"RGB\", image_size, background_color)\n",
        "    draw = ImageDraw.Draw(image)\n",
        "\n",
        "    # Try to load the font\n",
        "    try:\n",
        "        font = ImageFont.truetype(font_path, font_size)\n",
        "    except OSError:\n",
        "        print(f\"Error: Font path '{font_path}' not found.\")\n",
        "        return None\n",
        "\n",
        "    # Get the text dimensions for positioning\n",
        "    text_width, text_height = draw.textsize(text, font=font)\n",
        "\n",
        "    # Calculate text position\n",
        "    x_pos = (image.width - text_width) // 2\n",
        "    y_pos = (image.height - text_height) // 2\n",
        "\n",
        "    # Draw the text on the image\n",
        "    draw.text((x_pos, y_pos), text, font=font, fill=text_color)\n",
        "\n",
        "    return image\n",
        "\n"
      ],
      "metadata": {
        "id": "UYbjCfjBwoE9"
      },
      "execution_count": null,
      "outputs": []
    },
    {
      "cell_type": "code",
      "source": [
        "# List of available fonts on Colab (replace or add paths for uploaded fonts)\n",
        "font_paths = [\n",
        "    \"/usr/share/fonts/truetype/liberation/LiberationSansNarrow-Italic.ttf\",\n",
        "    \"/usr/share/fonts/truetype/liberation/LiberationSans-Regular.ttf\",\n",
        "    \"/usr/share/fonts/truetype/liberation/LiberationMono-BoldItalic.ttf\",\n",
        "    \"/usr/share/fonts/truetype/liberation/LiberationSerif-Italic.ttf\",\n",
        "    \"/usr/share/fonts/truetype/liberation/LiberationMono-Bold.ttf\",\n",
        "    \"/usr/share/fonts/truetype/liberation/LiberationSansNarrow-Regular.ttf\",\n",
        "    \"/usr/share/fonts/truetype/liberation/LiberationSerif-Bold.ttf\",\n",
        "    \"/usr/share/fonts/truetype/liberation/LiberationMono-Regular.ttf\",\n",
        "    \"/usr/share/fonts/truetype/liberation/LiberationSans-Italic.ttf\",\n",
        "    \"/usr/share/fonts/truetype/liberation/LiberationSerif-BoldItalic.ttf\",\n",
        "    \"/usr/share/fonts/truetype/liberation/LiberationSansNarrow-BoldItalic.ttf\",\n",
        "    \"/usr/share/fonts/truetype/liberation/LiberationMono-Italic.ttf\",\n",
        "    \"/usr/share/fonts/truetype/liberation/LiberationSans-BoldItalic.ttf\",\n",
        "    \"/usr/share/fonts/truetype/liberation/LiberationSerif-Regular.ttf\",\n",
        "    \"/usr/share/fonts/truetype/liberation/LiberationSansNarrow-Bold.ttf\",\n",
        "    \"/usr/share/fonts/truetype/liberation/LiberationSans-Bold.ttf\",\n",
        "    \"/usr/share/fonts/truetype/humor-sans/Humor-Sans.ttf\"\n",
        "]"
      ],
      "metadata": {
        "id": "vzop_zmaytfq"
      },
      "execution_count": null,
      "outputs": []
    },
    {
      "cell_type": "code",
      "source": [
        "text_variations = [\n",
        "    [\"ONE\", \"One\", \"one\"],\n",
        "    [\"TWO\", \"Two\", \"two\"],\n",
        "    [\"THREE\", \"Three\", \"three\"],\n",
        "    [\"FOUR\", \"Four\", \"four\"],\n",
        "    [\"FIVE\", \"Five\", \"five\"],\n",
        "    [\"SIX\", \"Six\", \"six\"],\n",
        "    [\"SEVEN\", \"Seven\", \"seven\"],\n",
        "    [\"EIGHT\", \"Eight\", \"eight\"],\n",
        "    [\"NINE\", \"Nine\", \"nine\"],\n",
        "    [\"TEN\", \"Ten\", \"ten\"],\n",
        "    [\"ELEVEN\", \"Eleven\", \"eleven\"],\n",
        "    [\"TWELVE\", \"Twelve\", \"twelve\"],\n",
        "    [\"THIRTEEN\", \"Thirteen\", \"thirteen\"],\n",
        "    [\"FOURTEEN\", \"Fourteen\", \"fourteen\"],\n",
        "    [\"FIFTEEN\", \"Fifteen\", \"fifteen\"],\n",
        "    [\"SIXTEEN\", \"Sixteen\", \"sixteen\"],\n",
        "    [\"SEVENTEEN\", \"Seventeen\", \"seventeen\"],\n",
        "    [\"EIGHTEEN\", \"Eighteen\", \"eighteen\"],\n",
        "    [\"NINETEEN\", \"Nineteen\", \"nineteen\"],\n",
        "    [\"TWENTY\", \"Twenty\", \"twenty\"],\n",
        "    [\"TWENTY ONE\", \"Twenty one\", \"twenty one\"],\n",
        "    [\"TWENTY TWO\", \"Twenty two\", \"twenty two\"],\n",
        "    [\"TWENTY THREE\", \"Twenty three\", \"twenty three\"],\n",
        "    [\"TWENTY FOUR\", \"Twenty four\", \"twenty four\"],\n",
        "    [\"TWENTY FIVE\", \"Twenty five\", \"twenty five\"],\n",
        "    [\"TWENTY SIX\", \"Twenty six\", \"twenty six\"],\n",
        "    [\"TWENTY SEVEN\", \"Twenty seven\", \"twenty seven\"],\n",
        "    [\"TWENTY EIGHT\", \"Twenty eight\", \"twenty eight\"],\n",
        "    [\"TWENTY NINE\", \"Twenty nine\", \"twenty nine\"],\n",
        "    [\"THIRTY\", \"Thirty\", \"thirty\"],\n",
        "    [\"THIRTY ONE\", \"Thirty one\", \"thirty one\"],\n",
        "    [\"THIRTY TWO\", \"Thirty two\", \"thirty two\"],\n",
        "    [\"THIRTY THREE\", \"Thirty three\", \"thirty three\"],\n",
        "    [\"THIRTY FOUR\", \"Thirty four\", \"thirty four\"],\n",
        "    [\"THIRTY FIVE\", \"Thirty five\", \"thirty five\"],\n",
        "    [\"THIRTY SIX\", \"Thirty six\", \"thirty six\"],\n",
        "    [\"THIRTY SEVEN\", \"Thirty seven\", \"thirty seven\"],\n",
        "    [\"THIRTY EIGHT\", \"Thirty eight\", \"thirty eight\"],\n",
        "    [\"THIRTY NINE\", \"Thirty nine\", \"thirty nine\"],\n",
        "    [\"FORTY\", \"Forty\", \"forty\"],\n",
        "    [\"FORTY ONE\", \"Forty one\", \"forty one\"],\n",
        "    [\"FORTY TWO\", \"Forty two\", \"forty two\"],\n",
        "    [\"FORTY THREE\", \"Forty three\", \"forty three\"],\n",
        "    [\"FORTY FOUR\", \"Forty four\", \"forty four\"],\n",
        "    [\"FORTY FIVE\", \"Forty five\", \"forty five\"],\n",
        "    [\"FORTY SIX\", \"Forty six\", \"forty six\"],\n",
        "    [\"FORTY SEVEN\", \"Forty seven\", \"forty seven\"],\n",
        "    [\"FORTY EIGHT\", \"Forty eight\", \"forty eight\"],\n",
        "    [\"FORTY NINE\", \"Forty nine\", \"forty nine\"],\n",
        "    [\"FIFTY\", \"Fifty\", \"fifty\"],\n",
        "    [\"FIFTY ONE\", \"Fifty one\", \"fifty one\"],\n",
        "    [\"FIFTY TWO\", \"Fifty two\", \"fifty two\"],\n",
        "    [\"FIFTY THREE\", \"Fifty three\", \"fifty three\"],\n",
        "    [\"FIFTY FOUR\", \"Fifty four\", \"fifty four\"],\n",
        "    [\"FIFTY FIVE\", \"Fifty five\", \"fifty five\"],\n",
        "    [\"FIFTY SIX\", \"Fifty six\", \"fifty six\"],\n",
        "    [\"FIFTY SEVEN\", \"Fifty seven\", \"fifty seven\"],\n",
        "    [\"FIFTY EIGHT\", \"Fifty eight\", \"fifty eight\"],\n",
        "    [\"FIFTY NINE\", \"Fifty nine\", \"fifty nine\"],\n",
        "    [\"SIXTY\", \"Sixty\", \"sixty\"],\n",
        "    [\"SIXTY ONE\", \"Sixty one\", \"sixty one\"],\n",
        "    [\"SIXTY TWO\", \"Sixty two\", \"sixty two\"],\n",
        "    [\"SIXTY THREE\", \"Sixty three\", \"sixty three\"],\n",
        "    [\"SIXTY FOUR\", \"Sixty four\", \"sixty four\"],\n",
        "    [\"SIXTY FIVE\", \"Sixty five\", \"sixty five\"],\n",
        "    [\"SIXTY SIX\", \"Sixty six\", \"sixty six\"],\n",
        "    [\"SIXTY SEVEN\", \"Sixty seven\", \"sixty seven\"],\n",
        "    [\"SIXTY EIGHT\", \"Sixty eight\", \"sixty eight\"],\n",
        "    [\"SIXTY NINE\", \"Sixty nine\", \"sixty nine\"],\n",
        "    [\"SEVENTY\", \"Seventy\", \"seventy\"],\n",
        "    [\"SEVENTY ONE\", \"Seventy one\", \"seventy one\"],\n",
        "    [\"SEVENTY TWO\", \"Seventy two\", \"seventy two\"],\n",
        "    [\"SEVENTY THREE\", \"Seventy three\", \"seventy three\"],\n",
        "    [\"SEVENTY FOUR\", \"Seventy four\", \"seventy four\"],\n",
        "    [\"SEVENTY FIVE\", \"Seventy five\", \"seventy five\"],\n",
        "    [\"SEVENTY SIX\", \"Seventy six\", \"seventy six\"],\n",
        "    [\"SEVENTY SEVEN\", \"Seventy seven\", \"seventy seven\"],\n",
        "    [\"SEVENTY EIGHT\", \"Seventy eight\", \"seventy eight\"],\n",
        "    [\"SEVENTY NINE\", \"Seventy nine\", \"seventy nine\"],\n",
        "    [\"EIGHTY\", \"Eighty\", \"eighty\"],\n",
        "    [\"EIGHTY ONE\", \"Eighty one\", \"eighty one\"],\n",
        "    [\"EIGHTY TWO\", \"Eighty two\", \"eighty two\"],\n",
        "    [\"EIGHTY THREE\", \"Eighty three\", \"eighty three\"],\n",
        "    [\"EIGHTY FOUR\", \"Eighty four\", \"eighty four\"],\n",
        "    [\"EIGHTY FIVE\", \"Eighty five\", \"eighty five\"],\n",
        "    [\"EIGHTY SIX\", \"Eighty six\", \"eighty six\"],\n",
        "    [\"EIGHTY SEVEN\", \"Eighty seven\", \"eighty seven\"],\n",
        "    [\"EIGHTY EIGHT\", \"Eighty eight\", \"eighty eight\"],\n",
        "    [\"EIGHTY NINE\", \"Eighty nine\", \"eighty nine\"],\n",
        "    [\"NINETY\", \"Ninety\", \"ninety\"],\n",
        "    [\"NINETY ONE\", \"Ninety one\", \"ninety one\"],\n",
        "    [\"NINETY TWO\", \"Ninety two\", \"ninety two\"],\n",
        "    [\"NINETY THREE\", \"Ninety three\", \"ninety three\"],\n",
        "    [\"NINETY FOUR\", \"Ninety four\", \"ninety four\"],\n",
        "    [\"NINETY FIVE\", \"Ninety five\", \"ninety five\"],\n",
        "    [\"NINETY SIX\", \"Ninety six\", \"ninety six\"],\n",
        "    [\"NINETY SEVEN\", \"Ninety seven\", \"ninety seven\"],\n",
        "    [\"NINETY EIGHT\", \"Ninety eight\", \"ninety eight\"],\n",
        "    [\"NINETY NINE\", \"Ninety nine\", \"ninety nine\"],\n",
        "    [\"HUNDRED\", \"Hundred\", \"hundred\"]\n",
        "]\n"
      ],
      "metadata": {
        "id": "5Ec90A_kyrRa"
      },
      "execution_count": null,
      "outputs": []
    },
    {
      "cell_type": "code",
      "source": [
        "text_variations[99][2]"
      ],
      "metadata": {
        "colab": {
          "base_uri": "https://localhost:8080/",
          "height": 36
        },
        "id": "SaBJns2Gz53x",
        "outputId": "1552460b-c296-4a08-d7e5-c35e482ba091"
      },
      "execution_count": null,
      "outputs": [
        {
          "output_type": "execute_result",
          "data": {
            "text/plain": [
              "'hundred'"
            ],
            "application/vnd.google.colaboratory.intrinsic+json": {
              "type": "string"
            }
          },
          "metadata": {},
          "execution_count": 7
        }
      ]
    },
    {
      "cell_type": "code",
      "source": [
        "!rm -rf \"/content/drive/MyDrive/written_number_classifier\""
      ],
      "metadata": {
        "id": "HrGW8KwA2gM_"
      },
      "execution_count": null,
      "outputs": []
    },
    {
      "cell_type": "code",
      "source": [],
      "metadata": {
        "id": "0vi4HPD3mV9G"
      },
      "execution_count": null,
      "outputs": []
    },
    {
      "cell_type": "code",
      "source": [
        "# !rm -rf \"/content/drive/MyDrive/written_text_classifier\""
      ],
      "metadata": {
        "id": "2pkQAsZuWrTr"
      },
      "execution_count": null,
      "outputs": []
    },
    {
      "cell_type": "code",
      "source": [
        "# Create directories for each number from 1 to 100\n",
        "base_dir = \"/content/drive/MyDrive/written_number_classifier/Data_source\"\n",
        "# os.makedirs(base_dir, exist_ok=True)\n",
        "# for i in range(100):\n",
        "#     num_dir = os.path.join(base_dir, text_variations[i][2])\n",
        "#     os.makedirs(num_dir, exist_ok=True)"
      ],
      "metadata": {
        "id": "dGt4OgE3zc0a"
      },
      "execution_count": null,
      "outputs": []
    },
    {
      "cell_type": "code",
      "source": [],
      "metadata": {
        "id": "6a3Ud_ZLWiTq"
      },
      "execution_count": null,
      "outputs": []
    },
    {
      "cell_type": "code",
      "source": [
        "# Generate images for numbers one to hundred\n",
        "for i in range(100):\n",
        "    image_count = 0\n",
        "    while image_count < 100:\n",
        "        try:\n",
        "            text = random.choice(text_variations[i])\n",
        "            font_path = random.choice(font_paths)\n",
        "            # font_size = random.randint(20,60)\n",
        "            num_len = len(text_variations[i][0])\n",
        "            if num_len <= 5:\n",
        "                font_size = 80\n",
        "            elif num_len > 5 and num_len <= 8:\n",
        "                font_size = 55\n",
        "            else:\n",
        "                font_size = 40\n",
        "\n",
        "            text_color = (random.randint(0, 255), random.randint(0, 255), random.randint(0, 255))\n",
        "            width = 300\n",
        "            height = 300\n",
        "            image_size = (width, height)\n",
        "            background_color = (255, 255, 255)\n",
        "\n",
        "            # Generate the image\n",
        "            image = generate_text_image(text, font_path, font_size, text_color, background_color, image_size)\n",
        "\n",
        "            # Save the image if generation was successful\n",
        "            if image:\n",
        "                # Save image to directory based on number\n",
        "                num_dir = os.path.join(base_dir, text_variations[i][2])\n",
        "                os.makedirs(num_dir, exist_ok=True)\n",
        "                # output_dir = os.path.join(base_dir, number_str)\n",
        "                image.save(os.path.join(num_dir, f\"image_{image_count+1}.png\"))\n",
        "                image_count += 1\n",
        "\n",
        "        except Exception as e:\n",
        "            print(e)\n",
        "    print(i,image_count)"
      ],
      "metadata": {
        "collapsed": true,
        "id": "Om68EkyRy5JK"
      },
      "execution_count": null,
      "outputs": []
    },
    {
      "cell_type": "code",
      "source": [
        "import zipfile\n",
        "import os\n",
        "\n",
        "def zip_folder(folder_path, output_zip_path):\n",
        "    \"\"\"\n",
        "    Zips the contents of a folder.\n",
        "\n",
        "    Args:\n",
        "        folder_path: Path to the folder to zip.\n",
        "        output_zip_path: Path to the output ZIP file.\n",
        "\n",
        "    Returns:\n",
        "        None\n",
        "    \"\"\"\n",
        "    # Ensure the folder exists\n",
        "    if not os.path.exists(folder_path):\n",
        "        print(f\"Error: Folder '{folder_path}' not found.\")\n",
        "        return\n",
        "\n",
        "    # Create a zip file\n",
        "    with zipfile.ZipFile(output_zip_path, 'w', zipfile.ZIP_DEFLATED) as zipf:\n",
        "        # Traverse the directory\n",
        "        for root, dirs, files in os.walk(folder_path):\n",
        "            for file in files:\n",
        "                file_path = os.path.join(root, file)\n",
        "                arcname = os.path.relpath(file_path, start=folder_path)\n",
        "                zipf.write(file_path, arcname=arcname)\n",
        "\n",
        "    print(f\"Folder '{folder_path}' zipped successfully to '{output_zip_path}'.\")\n",
        "\n",
        "# Example usage:\n",
        "folder_path = '/content/drive/MyDrive/written_number_classifier'\n",
        "output_zip_path = '/content/drive/MyDrive/data.zip'\n",
        "\n",
        "zip_folder(folder_path, output_zip_path)\n"
      ],
      "metadata": {
        "colab": {
          "base_uri": "https://localhost:8080/"
        },
        "id": "ONJrzDAYjx5_",
        "outputId": "7b7a8ec2-66c0-4e4c-d56f-59cc0f259eff"
      },
      "execution_count": null,
      "outputs": [
        {
          "output_type": "stream",
          "name": "stdout",
          "text": [
            "Folder '/content/drive/MyDrive/written_number_classifier' zipped successfully to '/content/drive/MyDrive/data.zip'.\n"
          ]
        }
      ]
    }
  ]
}